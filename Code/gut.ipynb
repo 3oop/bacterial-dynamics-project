{
 "cells": [
  {
   "cell_type": "markdown",
   "id": "55bf72b3",
   "metadata": {},
   "source": [
    "# Modeling Bacteria, Antibiotics and Immune System\n",
    "This notebook is to accompany the Report file Computation and Code section. Figures and Simulations are generated here.\n",
    "\n",
    "\n",
    "## Parameter Selection\n",
    "\n",
    "Our Invarient Set $\\mathcal{A}$ implied some restriction on parameters which alligned with our biological and mathematical intuition. "
   ]
  },
  {
   "cell_type": "markdown",
   "id": "0eb531c0",
   "metadata": {},
   "source": []
  }
 ],
 "metadata": {
  "kernelspec": {
   "display_name": "Python 3 (ipykernel)",
   "language": "python",
   "name": "python3"
  },
  "language_info": {
   "codemirror_mode": {
    "name": "ipython",
    "version": 3
   },
   "file_extension": ".py",
   "mimetype": "text/x-python",
   "name": "python",
   "nbconvert_exporter": "python",
   "pygments_lexer": "ipython3",
   "version": "3.13.5"
  }
 },
 "nbformat": 4,
 "nbformat_minor": 5
}
